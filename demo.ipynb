{
 "cells": [
  {
   "cell_type": "code",
   "execution_count": 1,
   "id": "f1080d26",
   "metadata": {},
   "outputs": [],
   "source": [
    "# load dataset\n",
    "import tensorflow as tf\n",
    "(x_train, y_train), (x_test, y_test) = tf.keras.datasets.mnist.load_data()\n",
    "x_train=x_train.reshape(x_train.shape[0], -1)\n",
    "x_test=x_test.reshape(x_test.shape[0], -1)"
   ]
  },
  {
   "cell_type": "markdown",
   "id": "5eb29269",
   "metadata": {},
   "source": [
    "## Performance of TnT\n",
    "\n",
    "This code takes ~5 mins to run. To reduce runtime, use greater ccp_alpha values (1e-3/1e-2).\n",
    "\n",
    "Console should print the following results:\n",
    "\n",
    "    TnT accuracy (train set): 0.9591\n",
    "    TnT accuracy (test set): 0.9037\n",
    "    TnT model complexity:  1019  internal nodes,  635  leaf nodes"
   ]
  },
  {
   "cell_type": "code",
   "execution_count": 3,
   "id": "9778ee29",
   "metadata": {},
   "outputs": [
    {
     "name": "stdout",
     "output_type": "stream",
     "text": [
      "TnT accuracy (train set): 0.9559333333333333\n",
      "TnT accuracy (test set): 0.9005\n",
      "-183.09\n",
      "TnT model complexity:  1066  internal nodes,  681  leaf nodes\n"
     ]
    }
   ],
   "source": [
    "from TreeInTree import TnT\n",
    "from sklearn.metrics import accuracy_score\n",
    "import time\n",
    "tnt = TnT(N1=2, N2=2, ccp_alpha=1e-4, random_state=0)\n",
    "st = time.time()\n",
    "tnt.fit(x_train, y_train)\n",
    "et = time.time()\n",
    "prediction_train = tnt.predict(teX=x_train)\n",
    "accuracy_train = accuracy_score(y_train, prediction_train)\n",
    "print(\"TnT accuracy (train set):\", accuracy_train)\n",
    "prediction_test = tnt.predict(teX=x_test)\n",
    "accuracy_test = accuracy_score(y_test, prediction_test)\n",
    "print(\"TnT accuracy (test set):\", accuracy_test)\n",
    "i, l = tnt.check_complexity()\n",
    "print(f'{et-st:.2f}')\n",
    "print(\"TnT model complexity: \", i, \" internal nodes, \", l, \" leaf nodes\")"
   ]
  },
  {
   "cell_type": "markdown",
   "id": "bce609be",
   "metadata": {},
   "source": [
    "## Visualization of TnT\n",
    "\n",
    "Visualize TnT as a directed graph using \"sknetwork\". To install sknetwork, run\n",
    "\n",
    "    $ pip install scikit-network"
   ]
  },
  {
   "cell_type": "code",
   "execution_count": 5,
   "id": "149ed6e5",
   "metadata": {},
   "outputs": [
    {
     "data": {
      "image/svg+xml": "<svg xmlns=\"http://www.w3.org/2000/svg\" width=\"440\" height=\"340\">\n<defs><marker id=\"arrow-black\" markerWidth=\"10\" markerHeight=\"10\" refX=\"9\" refY=\"3\" orient=\"auto\">\n<path d=\"M0,0 L0,6 L9,3 z\" fill=\"black\"/></marker></defs>\n<path stroke-width=\"1.0\" stroke=\"black\" d=\"M 205 130 226 147\" marker-end=\"url(#arrow-black)\"/>\n<path stroke-width=\"1.0\" stroke=\"black\" d=\"M 159 89 182 50\" marker-end=\"url(#arrow-black)\"/>\n<path stroke-width=\"1.0\" stroke=\"black\" d=\"M 159 89 134 69\" marker-end=\"url(#arrow-black)\"/>\n<path stroke-width=\"1.0\" stroke=\"black\" d=\"M 74 227 67 257\" marker-end=\"url(#arrow-black)\"/>\n<path stroke-width=\"1.0\" stroke=\"black\" d=\"M 74 227 45 248\" marker-end=\"url(#arrow-black)\"/>\n<path stroke-width=\"1.0\" stroke=\"black\" d=\"M 183 48 209 32\" marker-end=\"url(#arrow-black)\"/>\n<path stroke-width=\"1.0\" stroke=\"black\" d=\"M 183 48 189 22\" marker-end=\"url(#arrow-black)\"/>\n<path stroke-width=\"1.0\" stroke=\"black\" d=\"M 298 196 326 207\" marker-end=\"url(#arrow-black)\"/>\n<path stroke-width=\"1.0\" stroke=\"black\" d=\"M 114 185 133 195\" marker-end=\"url(#arrow-black)\"/>\n<path stroke-width=\"1.0\" stroke=\"black\" d=\"M 298 196 287 215\" marker-end=\"url(#arrow-black)\"/>\n<path stroke-width=\"1.0\" stroke=\"black\" d=\"M 328 208 362 244\" marker-end=\"url(#arrow-black)\"/>\n<path stroke-width=\"1.0\" stroke=\"black\" d=\"M 374 220 365 244\" marker-end=\"url(#arrow-black)\"/>\n<path stroke-width=\"1.0\" stroke=\"black\" d=\"M 374 220 418 223\" marker-end=\"url(#arrow-black)\"/>\n<path stroke-width=\"1.0\" stroke=\"black\" d=\"M 364 246 386 238\" marker-end=\"url(#arrow-black)\"/>\n<path stroke-width=\"1.0\" stroke=\"black\" d=\"M 364 246 369 290\" marker-end=\"url(#arrow-black)\"/>\n<path stroke-width=\"1.0\" stroke=\"black\" d=\"M 388 237 408 215\" marker-end=\"url(#arrow-black)\"/>\n<path stroke-width=\"1.0\" stroke=\"black\" d=\"M 388 237 356 249\" marker-end=\"url(#arrow-black)\"/>\n<path stroke-width=\"1.0\" stroke=\"black\" d=\"M 328 208 372 220\" marker-end=\"url(#arrow-black)\"/>\n<path stroke-width=\"1.0\" stroke=\"black\" d=\"M 114 185 76 225\" marker-end=\"url(#arrow-black)\"/>\n<path stroke-width=\"1.0\" stroke=\"black\" d=\"M 157 142 159 91\" marker-end=\"url(#arrow-black)\"/>\n<path stroke-width=\"1.0\" stroke=\"black\" d=\"M 157 142 116 183\" marker-end=\"url(#arrow-black)\"/>\n<path stroke-width=\"1.0\" stroke=\"black\" d=\"M 205 130 177 144\" marker-end=\"url(#arrow-black)\"/>\n<path stroke-width=\"1.0\" stroke=\"black\" d=\"M 228 148 250 155\" marker-end=\"url(#arrow-black)\"/>\n<path stroke-width=\"1.0\" stroke=\"black\" d=\"M 228 148 269 174\" marker-end=\"url(#arrow-black)\"/>\n<path stroke-width=\"1.0\" stroke=\"black\" d=\"M 175 145 226 148\" marker-end=\"url(#arrow-black)\"/>\n<path stroke-width=\"1.0\" stroke=\"black\" d=\"M 175 145 114 158\" marker-end=\"url(#arrow-black)\"/>\n<path stroke-width=\"1.0\" stroke=\"black\" d=\"M 252 155 269 173\" marker-end=\"url(#arrow-black)\"/>\n<path stroke-width=\"1.0\" stroke=\"black\" d=\"M 252 155 220 159\" marker-end=\"url(#arrow-black)\"/>\n<path stroke-width=\"1.0\" stroke=\"black\" d=\"M 271 175 296 195\" marker-end=\"url(#arrow-black)\"/>\n<path stroke-width=\"1.0\" stroke=\"black\" d=\"M 271 175 326 207\" marker-end=\"url(#arrow-black)\"/>\n<path stroke-width=\"1.0\" stroke=\"black\" d=\"M 112 158 112 201\" marker-end=\"url(#arrow-black)\"/>\n<path stroke-width=\"1.0\" stroke=\"black\" d=\"M 112 158 61 135\" marker-end=\"url(#arrow-black)\"/>\n<path stroke-width=\"1.0\" stroke=\"black\" d=\"M 218 159 269 175\" marker-end=\"url(#arrow-black)\"/>\n<path stroke-width=\"1.0\" stroke=\"black\" d=\"M 218 159 159 142\" marker-end=\"url(#arrow-black)\"/>\n<path stroke-width=\"1.0\" stroke=\"black\" d=\"M 112 203 108 230\" marker-end=\"url(#arrow-black)\"/>\n<path stroke-width=\"1.0\" stroke=\"black\" d=\"M 112 203 132 227\" marker-end=\"url(#arrow-black)\"/>\n<path stroke-width=\"1.0\" stroke=\"black\" d=\"M 59 134 22 128\" marker-end=\"url(#arrow-black)\"/>\n<path stroke-width=\"1.0\" stroke=\"black\" d=\"M 59 134 38 112\" marker-end=\"url(#arrow-black)\"/>\n<path stroke-width=\"1.0\" stroke=\"black\" d=\"M 369 292 384 316\" marker-end=\"url(#arrow-black)\"/>\n<path stroke-width=\"1.0\" stroke=\"black\" d=\"M 369 292 358 318\" marker-end=\"url(#arrow-black)\"/>\n<circle cx=\"205\" cy=\"130\" r=\"3.0\" style=\"fill:blue;stroke:black;stroke-width:1.0\"/>\n<circle cx=\"228\" cy=\"148\" r=\"3.0\" style=\"fill:blue;stroke:black;stroke-width:1.0\"/>\n<circle cx=\"175\" cy=\"145\" r=\"3.0\" style=\"fill:blue;stroke:black;stroke-width:1.0\"/>\n<circle cx=\"252\" cy=\"155\" r=\"3.0\" style=\"fill:blue;stroke:black;stroke-width:1.0\"/>\n<circle cx=\"271\" cy=\"175\" r=\"3.0\" style=\"fill:blue;stroke:black;stroke-width:1.0\"/>\n<circle cx=\"112\" cy=\"158\" r=\"3.0\" style=\"fill:blue;stroke:black;stroke-width:1.0\"/>\n<circle cx=\"218\" cy=\"159\" r=\"3.0\" style=\"fill:blue;stroke:black;stroke-width:1.0\"/>\n<circle cx=\"112\" cy=\"203\" r=\"3.0\" style=\"fill:orange;stroke:black;stroke-width:1.0\"/>\n<circle cx=\"59\" cy=\"134\" r=\"3.0\" style=\"fill:red;stroke:black;stroke-width:1.0\"/>\n<circle cx=\"157\" cy=\"142\" r=\"3.0\" style=\"fill:blue;stroke:black;stroke-width:1.0\"/>\n<circle cx=\"108\" cy=\"232\" r=\"3.0\" style=\"fill:yellow;stroke:black;stroke-width:1.0\"/>\n<circle cx=\"133\" cy=\"229\" r=\"3.0\" style=\"fill:orange;stroke:black;stroke-width:1.0\"/>\n<circle cx=\"20\" cy=\"128\" r=\"3.0\" style=\"fill:red;stroke:black;stroke-width:1.0\"/>\n<circle cx=\"36\" cy=\"110\" r=\"3.0\" style=\"fill:blue;stroke:black;stroke-width:1.0\"/>\n<circle cx=\"114\" cy=\"185\" r=\"3.0\" style=\"fill:olive;stroke:black;stroke-width:1.0\"/>\n<circle cx=\"159\" cy=\"89\" r=\"3.0\" style=\"fill:blue;stroke:black;stroke-width:1.0\"/>\n<circle cx=\"74\" cy=\"227\" r=\"3.0\" style=\"fill:olive;stroke:black;stroke-width:1.0\"/>\n<circle cx=\"135\" cy=\"196\" r=\"3.0\" style=\"fill:blue;stroke:black;stroke-width:1.0\"/>\n<circle cx=\"183\" cy=\"48\" r=\"3.0\" style=\"fill:purple;stroke:black;stroke-width:1.0\"/>\n<circle cx=\"132\" cy=\"68\" r=\"3.0\" style=\"fill:brown;stroke:black;stroke-width:1.0\"/>\n<circle cx=\"298\" cy=\"196\" r=\"3.0\" style=\"fill:blue;stroke:black;stroke-width:1.0\"/>\n<circle cx=\"328\" cy=\"208\" r=\"3.0\" style=\"fill:blue;stroke:black;stroke-width:1.0\"/>\n<circle cx=\"67\" cy=\"259\" r=\"3.0\" style=\"fill:olive;stroke:black;stroke-width:1.0\"/>\n<circle cx=\"43\" cy=\"249\" r=\"3.0\" style=\"fill:blue;stroke:black;stroke-width:1.0\"/>\n<circle cx=\"211\" cy=\"31\" r=\"3.0\" style=\"fill:purple;stroke:black;stroke-width:1.0\"/>\n<circle cx=\"189\" cy=\"20\" r=\"3.0\" style=\"fill:fuchsia;stroke:black;stroke-width:1.0\"/>\n<circle cx=\"286\" cy=\"217\" r=\"3.0\" style=\"fill:blue;stroke:black;stroke-width:1.0\"/>\n<circle cx=\"374\" cy=\"220\" r=\"3.0\" style=\"fill:green;stroke:black;stroke-width:1.0\"/>\n<circle cx=\"364\" cy=\"246\" r=\"3.0\" style=\"fill:blue;stroke:black;stroke-width:1.0\"/>\n<circle cx=\"420\" cy=\"223\" r=\"3.0\" style=\"fill:green;stroke:black;stroke-width:1.0\"/>\n<circle cx=\"388\" cy=\"237\" r=\"3.0\" style=\"fill:fuchsia;stroke:black;stroke-width:1.0\"/>\n<circle cx=\"369\" cy=\"292\" r=\"3.0\" style=\"fill:aqua;stroke:black;stroke-width:1.0\"/>\n<circle cx=\"410\" cy=\"213\" r=\"3.0\" style=\"fill:fuchsia;stroke:black;stroke-width:1.0\"/>\n<circle cx=\"354\" cy=\"249\" r=\"3.0\" style=\"fill:blue;stroke:black;stroke-width:1.0\"/>\n<circle cx=\"385\" cy=\"318\" r=\"3.0\" style=\"fill:yellow;stroke:black;stroke-width:1.0\"/>\n<circle cx=\"357\" cy=\"320\" r=\"3.0\" style=\"fill:aqua;stroke:black;stroke-width:1.0\"/>\n</svg>",
      "text/plain": [
       "<IPython.core.display.SVG object>"
      ]
     },
     "execution_count": 5,
     "metadata": {},
     "output_type": "execute_result"
    }
   ],
   "source": [
    "# load pretrained model\n",
    "import pickle\n",
    "with open(\"model/MNIST_ccp_1e-2.pkl\",'rb') as infile:\n",
    "    file = pickle.load(infile)\n",
    "tnt, X, y = file['model'], x_train, y_train\n",
    "\n",
    "# visualize TnT\n",
    "from IPython.display import SVG\n",
    "from TreeInTree import visTnT\n",
    "image = visTnT(tnt, X, y, scale=1, edge_width=1, node_size=3)\n",
    "SVG(image)"
   ]
  },
  {
   "cell_type": "markdown",
   "id": "e7a89a8c",
   "metadata": {},
   "source": [
    "##  Performance of CART \n",
    "\n",
    "Console should print the following results:\n",
    "\n",
    "    CART accuracy (train set): 0.9357\n",
    "    CART accuracy (test set): 0.883\n",
    "    CART model complexity:  1019  internal nodes,  1020  leaf nodes\n"
   ]
  },
  {
   "cell_type": "code",
   "execution_count": 4,
   "id": "a7c816c1",
   "metadata": {},
   "outputs": [
    {
     "name": "stdout",
     "output_type": "stream",
     "text": [
      "CART accuracy (train set): 0.9379833333333333\n",
      "9.60\n",
      "CART accuracy (test set): 0.8839\n",
      "CART model complexity:  1066  internal nodes,  1067  leaf nodes\n"
     ]
    }
   ],
   "source": [
    "from sklearn.tree import DecisionTreeClassifier\n",
    "cart = DecisionTreeClassifier(max_leaf_nodes=i+1, random_state=0)\n",
    "st = time.time()\n",
    "cart.fit(x_train, y_train)\n",
    "et = time.time()\n",
    "prediction_train = cart.predict(x_train)\n",
    "accuracy_train = accuracy_score(y_train, prediction_train)\n",
    "print(\"CART accuracy (train set):\", accuracy_train)\n",
    "prediction_test = cart.predict(x_test)\n",
    "accuracy_test = accuracy_score(y_test, prediction_test)\n",
    "print(f'{et-st:.2f}')\n",
    "print(\"CART accuracy (test set):\", accuracy_test)\n",
    "print(\"CART model complexity: \", i, \" internal nodes, \", i+1, \" leaf nodes\")"
   ]
  },
  {
   "cell_type": "markdown",
   "id": "befb0986",
   "metadata": {},
   "source": [
    "##  Performance of TnT ensemble \n",
    "\n",
    "Console should print the following results:\n",
    "\n",
    "    TnT-bagging accuracy (test set): 0.9037\n",
    "    TnT-bagging model complexity:  11022  internal nodes,  7270  leaf nodes"
   ]
  },
  {
   "cell_type": "code",
   "execution_count": 7,
   "id": "08ef14bd",
   "metadata": {},
   "outputs": [
    {
     "name": "stdout",
     "output_type": "stream",
     "text": [
      "TnT-bagging accuracy (test set): 0.9487\n",
      "TnT-bagging model complexity:  11101  internal nodes,  7313  leaf nodes\n"
     ]
    }
   ],
   "source": [
    "from sklearn.ensemble import BaggingClassifier\n",
    "tnt_bagging = BaggingClassifier(base_estimator=TnT(N1=2, N2=5, ccp_alpha=1e-4), n_estimators=10,n_jobs=-1,random_state=0)\n",
    "tnt_bagging.fit(x_train, y_train)\n",
    "prediction_test = tnt_bagging.predict(x_test)\n",
    "accuracy_test = accuracy_score(y_test, prediction_test)\n",
    "print(\"TnT-bagging accuracy (test set):\", accuracy_test)\n",
    "\n",
    "i, l = 0, 0\n",
    "for tee in range(len(tnt_bagging.estimators_)):\n",
    "    i_temp, l_temp = tnt_bagging.estimators_[tee].check_complexity()\n",
    "    i += i_temp\n",
    "    l += l_temp\n",
    "print(\"TnT-bagging model complexity: \", i, \" internal nodes, \", l, \" leaf nodes\")"
   ]
  },
  {
   "cell_type": "markdown",
   "id": "cc1d6911",
   "metadata": {},
   "source": [
    "## Performance of CART ensemble \n",
    "\n",
    "Console should print the following results:\n",
    "\n",
    "    Random Forest accuracy (test set): 0.9037\n",
    "    Random Forest model complexity:  1019  internal nodes,  635  leaf nodes\n"
   ]
  },
  {
   "cell_type": "code",
   "execution_count": 8,
   "id": "4c1cebfc",
   "metadata": {},
   "outputs": [
    {
     "name": "stdout",
     "output_type": "stream",
     "text": [
      "Random Forest accuracy (test set): 0.9444\n",
      "Random Forest model complexity:  29219  internal nodes,  29229  leaf nodes\n"
     ]
    }
   ],
   "source": [
    "RandomForest = BaggingClassifier(base_estimator=DecisionTreeClassifier(), n_estimators=10,n_jobs=-1,random_state=0)\n",
    "RandomForest.fit(x_train, y_train)\n",
    "prediction_test = RandomForest.predict(x_test)\n",
    "accuracy_test = accuracy_score(y_test, prediction_test)\n",
    "print(\"Random Forest accuracy (test set):\", accuracy_test)\n",
    "i, l = 0, 0\n",
    "for tee in range(len(RandomForest.estimators_)):\n",
    "        capacity = RandomForest.estimators_[tee].tree_.capacity\n",
    "        i += int(capacity / 2)\n",
    "        l += int(capacity / 2)+1\n",
    "print(\"Random Forest model complexity: \", i, \" internal nodes, \", l, \" leaf nodes\")"
   ]
  },
  {
   "cell_type": "code",
   "execution_count": 9,
   "id": "01c6cb0a",
   "metadata": {},
   "outputs": [],
   "source": [
    "import pickle\n",
    "with open(\"model/MNIST_ccp_1e-2.pkl\",'rb') as infile:\n",
    "    file = pickle.load(infile)\n",
    "with open('model/MNIST_ccp_1e-2.pkl', 'wb') as outfile:\n",
    "    # A new file will be created\n",
    "    pickle.dump({'model':file['model']}, outfile)"
   ]
  },
  {
   "cell_type": "code",
   "execution_count": null,
   "id": "1a71723f",
   "metadata": {},
   "outputs": [],
   "source": []
  }
 ],
 "metadata": {
  "kernelspec": {
   "display_name": "Python 3.9.13 ('ml')",
   "language": "python",
   "name": "python3"
  },
  "language_info": {
   "codemirror_mode": {
    "name": "ipython",
    "version": 3
   },
   "file_extension": ".py",
   "mimetype": "text/x-python",
   "name": "python",
   "nbconvert_exporter": "python",
   "pygments_lexer": "ipython3",
   "version": "3.9.13"
  },
  "vscode": {
   "interpreter": {
    "hash": "d559f30ae9ab779927f3cb792f1cac9b725f5061f38755c4ef102b55af6275f0"
   }
  }
 },
 "nbformat": 4,
 "nbformat_minor": 5
}
